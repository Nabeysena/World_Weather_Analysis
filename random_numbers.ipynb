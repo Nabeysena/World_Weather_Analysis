{
 "cells": [
  {
   "cell_type": "code",
   "execution_count": 20,
   "metadata": {},
   "outputs": [],
   "source": [
    "#Import the random module\n",
    "import random"
   ]
  },
  {
   "cell_type": "code",
   "execution_count": 21,
   "metadata": {},
   "outputs": [
    {
     "data": {
      "text/plain": [
       "27"
      ]
     },
     "execution_count": 21,
     "metadata": {},
     "output_type": "execute_result"
    }
   ],
   "source": [
    "random.randint(-90,90) "
   ]
  },
  {
   "cell_type": "code",
   "execution_count": 22,
   "metadata": {},
   "outputs": [
    {
     "data": {
      "text/plain": [
       "0.10415339233671583"
      ]
     },
     "execution_count": 22,
     "metadata": {},
     "output_type": "execute_result"
    }
   ],
   "source": [
    "random.random()"
   ]
  },
  {
   "cell_type": "code",
   "execution_count": 23,
   "metadata": {},
   "outputs": [
    {
     "data": {
      "text/plain": [
       "-40.496821199338555"
      ]
     },
     "execution_count": 23,
     "metadata": {},
     "output_type": "execute_result"
    }
   ],
   "source": [
    "random_number = random.randint(-90,90) + random.random()\n",
    "random_number"
   ]
  },
  {
   "cell_type": "code",
   "execution_count": 24,
   "metadata": {},
   "outputs": [
    {
     "data": {
      "text/plain": [
       "[56.3426227217051,\n",
       " -52.888071819220414,\n",
       " 6.400879598743382,\n",
       " -13.283598345021932,\n",
       " -70.57769053702523,\n",
       " -2.4678342779151645,\n",
       " -57.46975894023102,\n",
       " 56.809784317111834,\n",
       " -19.241053171202772,\n",
       " -87.79275708651112]"
      ]
     },
     "execution_count": 24,
     "metadata": {},
     "output_type": "execute_result"
    }
   ],
   "source": [
    "x=1\n",
    "latitudes = []\n",
    "while x <11:\n",
    "    random_lat = random.randint(-90,90) + random.random()\n",
    "    latitudes.append(random_lat)\n",
    "    x+=1 \n",
    "latitudes"
   ]
  },
  {
   "cell_type": "code",
   "execution_count": 25,
   "metadata": {},
   "outputs": [],
   "source": [
    "#Import NumPy module\n",
    "import numpy as np"
   ]
  },
  {
   "cell_type": "code",
   "execution_count": 32,
   "metadata": {},
   "outputs": [
    {
     "data": {
      "text/plain": [
       "array([ 41.07514355, -35.21536241,  32.64952953,  65.42360747,\n",
       "       -88.92163401,  33.19670365,  34.62110008,  31.82796344,\n",
       "       -81.89644989,  -1.9681437 ,  60.21516509,  20.3333217 ,\n",
       "       -49.39792029,  72.83637905, -38.74720226,  70.08982617,\n",
       "       -27.6453706 ,  60.38013607,  16.62408067, -50.61440417,\n",
       "       -39.52674938,  12.3574549 , -30.69818077, -81.56073305,\n",
       "       -79.00945638,  82.07488903,  64.01149234, -87.15647239,\n",
       "        54.01433891,  87.40456325, -58.33639368, -62.44944682,\n",
       "        81.54212659,   1.73113291, -84.14987565,  31.96250568,\n",
       "        58.03773347, -84.94459974,  11.95233539,  44.80999865,\n",
       "       -58.30102466,  62.584656  ,  -8.22671687, -34.45459751,\n",
       "        19.49281444, -12.51378169,  -3.60961814, -88.30720787,\n",
       "        14.28606162, -17.06258086])"
      ]
     },
     "execution_count": 32,
     "metadata": {},
     "output_type": "execute_result"
    }
   ],
   "source": [
    "np.random.uniform(-90.000,90.000, size=50)"
   ]
  },
  {
   "cell_type": "code",
   "execution_count": 39,
   "metadata": {},
   "outputs": [],
   "source": [
    "#Import timeit.\n",
    "import timeit"
   ]
  },
  {
   "cell_type": "code",
   "execution_count": 38,
   "metadata": {},
   "outputs": [
    {
     "name": "stdout",
     "output_type": "stream",
     "text": [
      "19.1 µs ± 791 ns per loop (mean ± std. dev. of 7 runs, 10000 loops each)\n"
     ]
    }
   ],
   "source": [
    "%timeit np.random.uniform(-90,90, size=1500)"
   ]
  },
  {
   "cell_type": "code",
   "execution_count": 40,
   "metadata": {},
   "outputs": [
    {
     "name": "stdout",
     "output_type": "stream",
     "text": [
      "1.9 ms ± 38 µs per loop (mean ± std. dev. of 7 runs, 1000 loops each)\n"
     ]
    }
   ],
   "source": [
    "def latitudes(size):\n",
    "    latitudes=[]\n",
    "    x=0\n",
    "    while x < (size):\n",
    "        random_lat = random.randint(-90,90) + random.random()\n",
    "        latitudes.append(random_lat)\n",
    "        x +=1\n",
    "    return latitudes\n",
    "#Call the function with 1500.\n",
    "%timeit latitudes(1500)"
   ]
  },
  {
   "cell_type": "code",
   "execution_count": null,
   "metadata": {},
   "outputs": [],
   "source": []
  }
 ],
 "metadata": {
  "kernelspec": {
   "display_name": "PythonData",
   "language": "python",
   "name": "pythondata"
  },
  "language_info": {
   "codemirror_mode": {
    "name": "ipython",
    "version": 3
   },
   "file_extension": ".py",
   "mimetype": "text/x-python",
   "name": "python",
   "nbconvert_exporter": "python",
   "pygments_lexer": "ipython3",
   "version": "3.7.6"
  }
 },
 "nbformat": 4,
 "nbformat_minor": 4
}
